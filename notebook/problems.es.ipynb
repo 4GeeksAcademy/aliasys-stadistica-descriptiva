{
 "cells": [
  {
   "cell_type": "markdown",
   "id": "6805e3f1",
   "metadata": {},
   "source": [
    "# Problemas de Estadística Descriptiva\n",
    "\n",
    "## Ejercicio 1 – ¿Qué tan largos son los títulos de las películas?\n",
    "\n",
    "En este ejercicio vas a aplicar técnicas de estadística descriptiva sobre un conjunto de datos real: una base con 1000 películas populares del sitio IMDb.\n",
    "\n",
    "A partir del título de cada película, vas a:\n",
    "- Calcular la longitud del título (en caracteres).\n",
    "- Obtener métricas estadísticas clave: media, mediana, moda, rango, varianza, desviación estándar, asimetría y curtosis.\n",
    "- Identificar los títulos más largos y más cortos.\n",
    "- Visualizar la distribución de estas longitudes con un histograma y una curva de densidad.\n"
   ]
  },
  {
   "cell_type": "code",
   "execution_count": null,
   "id": "ca3d2c0a",
   "metadata": {},
   "outputs": [
    {
     "ename": "",
     "evalue": "",
     "output_type": "error",
     "traceback": [
      "\u001b[1;31mLa ejecución de celdas con 'Python 3.12.10' requiere el paquete ipykernel.\n",
      "\u001b[1;31m<a href='command:jupyter.createPythonEnvAndSelectController'>Crear un entorno de Python</a> con los paquetes necesarios."
     ]
    }
   ],
   "source": [
    "# Importar librerias\n",
    "import pandas as pd\n",
    "import numpy as np\n",
    "import matplotlib.pyplot as plt\n",
    "from scipy.stats import skew, kurtosis, mode\n",
    "\n"
   ]
  },
  {
   "cell_type": "code",
   "execution_count": null,
   "id": "b0d81dde",
   "metadata": {},
   "outputs": [],
   "source": [
    "\n",
    "# Cargar dataset de IMDb\n",
    "url = \"../assets/imdb_1000.csv\"\n",
    "df = pd.read_csv(url)\n",
    "df"
   ]
  },
  {
   "cell_type": "code",
   "execution_count": null,
   "id": "61d39304",
   "metadata": {},
   "outputs": [],
   "source": [
    "# Crea una nueva columna llamada 'title_length' con la longitud (número de caracteres) de cada título\n",
    "df['title_length'] = df['title'].apply(len)\n",
    "df['title_length']\n"
   ]
  },
  {
   "cell_type": "code",
   "execution_count": null,
   "id": "cae9c2e7",
   "metadata": {},
   "outputs": [],
   "source": [
    "# Calcula media, mediana y moda de la columna 'title_length'\n",
    "mean_length = df['title_length'].mean()\n",
    "median_length = df['title_length'].median()\n",
    "mode_length = mode(df['title_length'])[0]\n",
    "print(f\"Media de la longitud del título: {mean_length}\")\n",
    "print(f\"Mediana de la longitud del título: {median_length}\")\n",
    "print(f\"Moda de la longitud del título: {mode_length}\")"
   ]
  },
  {
   "cell_type": "code",
   "execution_count": null,
   "id": "69664a9b",
   "metadata": {},
   "outputs": [],
   "source": [
    "# Calcula el rango, la varianza y la desviación estándar de 'title_length'\n",
    "range_length = df['title_length'].max() - df['title_length'].min()\n",
    "variance_length = df['title_length'].var()\n",
    "std_dev_length = df['title_length'].std()\n",
    "print(f\"Rango de la longitud del título: {range_length}\")\n",
    "print(f\"Varianza de la longitud del título: {variance_length}\")\n",
    "print(f\"Desviación estándar de la longitud del título: {std_dev_length}\")"
   ]
  },
  {
   "cell_type": "code",
   "execution_count": null,
   "id": "6b9a931c",
   "metadata": {},
   "outputs": [],
   "source": [
    "# Calcula asimetría y curtosis de la columna 'title_length'\n",
    "skewness_length = skew(df['title_length'])\n",
    "kurtosis_length = kurtosis(df['title_length'])\n",
    "print(f\"Asimetría de la longitud del título: {skewness_length}\")\n",
    "print(f\"Curtosis de la longitud del título: {kurtosis_length}\")"
   ]
  },
  {
   "cell_type": "code",
   "execution_count": null,
   "id": "c0d09e68",
   "metadata": {},
   "outputs": [],
   "source": [
    "# Imprime el título más corto y el título más largo según su longitud\n",
    "shortest_title = df.loc[df['title_length'].idxmin()]['title']\n",
    "longest_title = df.loc[df['title_length'].idxmax()]['title']\n",
    "print(f\"Título más corto: {shortest_title} (Longitud: {df['title_length'].min()})\")\n",
    "print(f\"Título más largo: {longest_title} (Longitud: {df['title_length'].max()})\")\n"
   ]
  },
  {
   "cell_type": "code",
   "execution_count": null,
   "id": "e86a1ced",
   "metadata": {},
   "outputs": [],
   "source": [
    "\n",
    "# grafica los titulos con un historigrama y una curvatura de densidad\n",
    "plt.figure(figsize=(12, 6))\n",
    "plt.hist(df['title_length'], bins=30, density=True, color='skyblue', edgecolor='black', alpha=0.6)\n",
    "plt.title('Distribución de la Longitud de los Títulos con Curva de Densidad')\n",
    "plt.xlabel('Longitud del Título (número de caracteres)')\n",
    "plt.ylabel('Densidad')\n",
    "# agregar una curva de densidad sin seasborn\n",
    "\n",
    "plt.axvline(mean_length, color='red', linestyle='dashed', linewidth=1, label='Media')\n",
    "plt.axvline(median_length, color='green', linestyle='dashed', linewidth=1, label='Mediana')\n",
    "plt.axvline(mode_length, color='orange', linestyle='dashed', linewidth=1, label='Moda')\n",
    "plt.legend()\n",
    "plt.grid(axis='y', alpha=0.75)\n",
    "plt.show()"
   ]
  },
  {
   "cell_type": "markdown",
   "id": "eaf3ceb7",
   "metadata": {},
   "source": [
    "---\n",
    "\n",
    "## Ejercicio 2 – Cálculo manual de desviación estándar\n",
    "\n",
    "En este ejercicio vas a calcular manualmente la desviación estándar, seleccionando cinco títulos reales del dataset de películas que cargaste antes.\n"
   ]
  },
  {
   "cell_type": "code",
   "execution_count": null,
   "id": "3005c0f9",
   "metadata": {},
   "outputs": [
    {
     "ename": "",
     "evalue": "",
     "output_type": "error",
     "traceback": [
      "\u001b[1;31mLa ejecución de celdas con 'Python 3.12.10' requiere el paquete ipykernel.\n",
      "\u001b[1;31m<a href='command:jupyter.createPythonEnvAndSelectController'>Crear un entorno de Python</a> con los paquetes necesarios."
     ]
    }
   ],
   "source": [
    "# Crea una lista con 5 valores reales de df['title_length'], por ejemplo: [10, 13, 14, 18, 22]\n",
    "sample_lengths = df['title_length'].sample(5, random_state=42).tolist()\n",
    "sample_lengths"
   ]
  },
  {
   "cell_type": "code",
   "execution_count": null,
   "id": "d96b771f",
   "metadata": {},
   "outputs": [],
   "source": [
    "# Calcula la media de los 5 valores\n",
    "sample_mean = np.mean(sample_lengths)\n",
    "sample_mean"
   ]
  },
  {
   "cell_type": "code",
   "execution_count": null,
   "id": "346d0dc5",
   "metadata": {},
   "outputs": [],
   "source": [
    "# Calcula las diferencias al cuadrado con respecto a la media\n",
    "squared_diffs = [(x - sample_mean) ** 2 for x in sample_lengths]\n",
    "squared_diffs"
   ]
  },
  {
   "cell_type": "code",
   "execution_count": null,
   "id": "f56517ff",
   "metadata": {},
   "outputs": [],
   "source": [
    "# Calcula la varianza (promedio de las diferencias al cuadrado) y su raíz cuadrada para obtener la desviación\n",
    "sample_variance = np.mean(squared_diffs)\n",
    "sample_std_dev = np.sqrt(sample_variance)\n",
    "sample_variance, sample_std_dev"
   ]
  }
 ],
 "metadata": {
  "kernelspec": {
   "display_name": "Python 3",
   "language": "python",
   "name": "python3"
  },
  "language_info": {
   "codemirror_mode": {
    "name": "ipython",
    "version": 3
   },
   "file_extension": ".py",
   "mimetype": "text/x-python",
   "name": "python",
   "nbconvert_exporter": "python",
   "pygments_lexer": "ipython3",
   "version": "3.12.10"
  }
 },
 "nbformat": 4,
 "nbformat_minor": 5
}
